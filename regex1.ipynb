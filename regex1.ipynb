{
 "cells": [
  {
   "cell_type": "code",
   "execution_count": 5,
   "metadata": {},
   "outputs": [],
   "source": [
    "import re\n",
    "import sys"
   ]
  },
  {
   "cell_type": "code",
   "execution_count": null,
   "metadata": {},
   "outputs": [],
   "source": [
    "txt = \"Le problème du voyageur de commerce est un exemple de problèmes NP-Difficiles, \\\n",
    "mais aussi, de problèmes NP-Complets. Il est souvent utilisé pour illustrer la différence\""
   ]
  },
  {
   "cell_type": "code",
   "execution_count": 14,
   "metadata": {},
   "outputs": [
    {
     "data": {
      "text/plain": [
       "'exemple'"
      ]
     },
     "execution_count": 14,
     "metadata": {},
     "output_type": "execute_result"
    }
   ],
   "source": [
    "r=re.search(\"exemple\",txt)\n",
    "#res.start(), res.end()"
   ]
  },
  {
   "cell_type": "code",
   "execution_count": 24,
   "metadata": {},
   "outputs": [],
   "source": [
    "txt1 = \"pi = 3.14\"\n",
    "txt2 = \"Le nombre pi=3.14 est un nombre irrationnel.\""
   ]
  },
  {
   "cell_type": "code",
   "execution_count": 18,
   "metadata": {},
   "outputs": [],
   "source": [
    "def print_match(pattern,txt):\n",
    "    res = re.search(pattern, txt)\n",
    "    if res:\n",
    "        print(f\"Trouvé: {res.group()}\")\n",
    "    else:\n",
    "        print(\"Pas trouvé\")"
   ]
  },
  {
   "cell_type": "code",
   "execution_count": 19,
   "metadata": {},
   "outputs": [
    {
     "name": "stdout",
     "output_type": "stream",
     "text": [
      "Trouvé: pi\n"
     ]
    }
   ],
   "source": [
    "print_match(\"^pi\",txt1) # ^: début de la chaine"
   ]
  },
  {
   "cell_type": "code",
   "execution_count": 20,
   "metadata": {},
   "outputs": [
    {
     "name": "stdout",
     "output_type": "stream",
     "text": [
      "Pas trouvé\n"
     ]
    }
   ],
   "source": [
    "print_match(\"^pi\",txt2)"
   ]
  },
  {
   "cell_type": "code",
   "execution_count": 22,
   "metadata": {},
   "outputs": [
    {
     "name": "stdout",
     "output_type": "stream",
     "text": [
      "Pas trouvé\n"
     ]
    }
   ],
   "source": [
    "print_match(r\"nnel\\.$\",txt1) # $: fin de la chaine"
   ]
  },
  {
   "cell_type": "code",
   "execution_count": 25,
   "metadata": {},
   "outputs": [
    {
     "name": "stdout",
     "output_type": "stream",
     "text": [
      "Trouvé: nnel.\n"
     ]
    }
   ],
   "source": [
    "print_match(r\"nnel\\.$\",txt2)"
   ]
  },
  {
   "cell_type": "code",
   "execution_count": 26,
   "metadata": {},
   "outputs": [
    {
     "name": "stdout",
     "output_type": "stream",
     "text": [
      "Pas trouvé\n"
     ]
    }
   ],
   "source": [
    "print_match(\"[A-Z]\",txt1) # [A-Z]: une lettre majuscule"
   ]
  },
  {
   "cell_type": "code",
   "execution_count": 27,
   "metadata": {},
   "outputs": [
    {
     "name": "stdout",
     "output_type": "stream",
     "text": [
      "Trouvé: L\n"
     ]
    }
   ],
   "source": [
    "print_match(\"[A-Z]\",txt2)"
   ]
  },
  {
   "cell_type": "code",
   "execution_count": 28,
   "metadata": {},
   "outputs": [
    {
     "name": "stdout",
     "output_type": "stream",
     "text": [
      "Trouvé: 3\n"
     ]
    }
   ],
   "source": [
    "print_match(\"[0-9]\",txt1) # [0-9]: un chiffre"
   ]
  },
  {
   "cell_type": "code",
   "execution_count": 29,
   "metadata": {},
   "outputs": [
    {
     "name": "stdout",
     "output_type": "stream",
     "text": [
      "Trouvé: 3\n"
     ]
    }
   ],
   "source": [
    "print_match(\"[0-9]\",txt2)\n",
    "# ! warning on this\n",
    "# TODO sth that i have to do\n",
    "# ? I have a question\n",
    "# * Very important"
   ]
  }
 ],
 "metadata": {
  "kernelspec": {
   "display_name": "Python 3",
   "language": "python",
   "name": "python3"
  },
  "language_info": {
   "codemirror_mode": {
    "name": "ipython",
    "version": 3
   },
   "file_extension": ".py",
   "mimetype": "text/x-python",
   "name": "python",
   "nbconvert_exporter": "python",
   "pygments_lexer": "ipython3",
   "version": "3.12.2"
  }
 },
 "nbformat": 4,
 "nbformat_minor": 2
}
